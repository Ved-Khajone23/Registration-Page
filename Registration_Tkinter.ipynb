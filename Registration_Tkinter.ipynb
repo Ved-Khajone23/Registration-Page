{
 "cells": [
  {
   "cell_type": "code",
   "execution_count": 1,
   "id": "a61e69fe",
   "metadata": {},
   "outputs": [],
   "source": [
    "# Registration Page"
   ]
  },
  {
   "cell_type": "code",
   "execution_count": null,
   "id": "75585558",
   "metadata": {},
   "outputs": [],
   "source": []
  },
  {
   "cell_type": "code",
   "execution_count": 2,
   "id": "a35235ec",
   "metadata": {},
   "outputs": [],
   "source": [
    "from tkinter import *\n",
    "from PIL import ImageTk, Image"
   ]
  },
  {
   "cell_type": "code",
   "execution_count": 3,
   "id": "61ae158e",
   "metadata": {},
   "outputs": [],
   "source": [
    "users = []"
   ]
  },
  {
   "cell_type": "code",
   "execution_count": 4,
   "id": "7afc64a9",
   "metadata": {},
   "outputs": [],
   "source": [
    "def display_message():\n",
    "    \n",
    "    email = email_ip.get()\n",
    "    password = pass_ip.get()\n",
    "    \n",
    "    if email in users:\n",
    "        message.config(text='User Already Exists!', fg='red')\n",
    "    else:\n",
    "        users.append(email)\n",
    "        message.config(text='Registration Sucessfull!', fg='green')"
   ]
  },
  {
   "cell_type": "code",
   "execution_count": 5,
   "id": "d20ae409",
   "metadata": {},
   "outputs": [],
   "source": [
    "root = Tk()\n",
    "\n",
    "root.title('Registration')\n",
    "root.iconbitmap(\"E:/project/reg.ico\")\n",
    "\n",
    "root.configure(background='grey')\n",
    "\n",
    "# image\n",
    "img = ImageTk.PhotoImage(Image.open(\"E:/project/sanjivani.jpg\"))\n",
    "img_label = Label(root, image=img)\n",
    "img_label.pack(pady=(10, 5))\n",
    "\n",
    "# email section\n",
    "email_label = Label(root, text='Email', fg='white', bg='grey')\n",
    "email_label.pack(pady=(15, 5))\n",
    "email_label.config(font=('Ubuntu', 16))\n",
    "\n",
    "# email input\n",
    "email_ip = Entry(root, width=45)\n",
    "email_ip.pack(ipady=(6), pady=(5,10))\n",
    "\n",
    "# name section\n",
    "name_label = Label(root, text='Name', fg='white', bg='grey')\n",
    "name_label.pack(pady=(15, 5))\n",
    "name_label.config(font=('Ubuntu', 16))\n",
    "\n",
    "# name input\n",
    "name_ip = Entry(root, width=45)\n",
    "name_ip.pack(ipady=(6), pady=(5,10))\n",
    "\n",
    "# password section\n",
    "pass_label = Label(root, text='Password', fg='white', bg='grey')\n",
    "pass_label.pack(pady=(15, 5))\n",
    "pass_label.config(font=('Ubuntu', 16))\n",
    "\n",
    "# password input\n",
    "pass_ip = Entry(root, width=45)\n",
    "pass_ip.pack(ipady=(6), pady=(5,10))\n",
    "\n",
    "# submit button\n",
    "submit_btn = Button(root, text='Submit', command=display_message)\n",
    "submit_btn.pack(pady=(8,12))\n",
    "\n",
    "# message \n",
    "message = Label(root, text='', bg='grey')\n",
    "message.pack()\n",
    "message.config(font=('Ubuntu', 16))\n",
    "\n",
    "# specify the size\n",
    "root.minsize(550, 600)\n",
    "\n",
    "root.mainloop()"
   ]
  },
  {
   "cell_type": "code",
   "execution_count": 6,
   "id": "06917536",
   "metadata": {},
   "outputs": [
    {
     "name": "stdout",
     "output_type": "stream",
     "text": [
      "Requirement already satisfied: Pillow in c:\\users\\hp\\anaconda3\\lib\\site-packages (10.0.0)\n"
     ]
    }
   ],
   "source": [
    "!pip install Pillow"
   ]
  },
  {
   "cell_type": "code",
   "execution_count": 7,
   "id": "c907dcb1",
   "metadata": {},
   "outputs": [
    {
     "name": "stdout",
     "output_type": "stream",
     "text": [
      "['gdsc@gmail.com']\n"
     ]
    }
   ],
   "source": [
    "print(users)"
   ]
  },
  {
   "cell_type": "code",
   "execution_count": null,
   "id": "f0d07945",
   "metadata": {},
   "outputs": [],
   "source": []
  }
 ],
 "metadata": {
  "kernelspec": {
   "display_name": "Python 3 (ipykernel)",
   "language": "python",
   "name": "python3"
  },
  "language_info": {
   "codemirror_mode": {
    "name": "ipython",
    "version": 3
   },
   "file_extension": ".py",
   "mimetype": "text/x-python",
   "name": "python",
   "nbconvert_exporter": "python",
   "pygments_lexer": "ipython3",
   "version": "3.9.7"
  }
 },
 "nbformat": 4,
 "nbformat_minor": 5
}
